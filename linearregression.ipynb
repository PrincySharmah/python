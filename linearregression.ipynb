{
  "nbformat": 4,
  "nbformat_minor": 0,
  "metadata": {
    "colab": {
      "name": "linearregression.ipynb",
      "provenance": [],
      "collapsed_sections": [],
      "authorship_tag": "ABX9TyN3jsUgrwDU4ofrsHHDrfCi",
      "include_colab_link": true
    },
    "kernelspec": {
      "name": "python3",
      "display_name": "Python 3"
    },
    "language_info": {
      "name": "python"
    }
  },
  "cells": [
    {
      "cell_type": "markdown",
      "metadata": {
        "id": "view-in-github",
        "colab_type": "text"
      },
      "source": [
        "<a href=\"https://colab.research.google.com/github/PrincySharmah/python/blob/main/linearregression.ipynb\" target=\"_parent\"><img src=\"https://colab.research.google.com/assets/colab-badge.svg\" alt=\"Open In Colab\"/></a>"
      ]
    },
    {
      "cell_type": "code",
      "execution_count": null,
      "metadata": {
        "id": "dKlILMkGXKyW"
      },
      "outputs": [],
      "source": [
        "#program from linear regression\n",
        "#importing matplot.pyplot for plotting graph\n",
        "import numpy as np\n",
        "import matplotlib.pyplot as pt\n",
        "#importingsklearn for geeting linear modeland datasets\n",
        "from sklearn import datasets,linear_model"
      ]
    },
    {
      "cell_type": "code",
      "source": [
        "regr =linear_model.LinearRegression()"
      ],
      "metadata": {
        "id": "KpXS8g7mZqyV"
      },
      "execution_count": null,
      "outputs": []
    },
    {
      "cell_type": "code",
      "source": [
        "x = np.array([1,10,20,40,50,60,70,80,120])\n",
        "y = np.array([3,20,90,110,150,130,170,200,260])"
      ],
      "metadata": {
        "id": "r3UuHecOaIZs"
      },
      "execution_count": null,
      "outputs": []
    },
    {
      "cell_type": "code",
      "source": [
        "regr = linear_model.LinearRegression()"
      ],
      "metadata": {
        "id": "7jrePGckbcIV"
      },
      "execution_count": null,
      "outputs": []
    },
    {
      "cell_type": "code",
      "source": [
        "x=x.reshape(-1,1)"
      ],
      "metadata": {
        "id": "X4teZ6dAbxwj"
      },
      "execution_count": null,
      "outputs": []
    },
    {
      "cell_type": "code",
      "source": [
        "regr.fit(x,y)\n"
      ],
      "metadata": {
        "colab": {
          "base_uri": "https://localhost:8080/"
        },
        "id": "qU2dVSp8c5G-",
        "outputId": "a59b4eca-be86-45a3-e6e4-3bb9ef583826"
      },
      "execution_count": null,
      "outputs": [
        {
          "output_type": "execute_result",
          "data": {
            "text/plain": [
              "LinearRegression()"
            ]
          },
          "metadata": {},
          "execution_count": 25
        }
      ]
    },
    {
      "cell_type": "code",
      "source": [
        "y_pred=regr.predict(x)"
      ],
      "metadata": {
        "id": "MJp1TbVhdvwV"
      },
      "execution_count": null,
      "outputs": []
    },
    {
      "cell_type": "code",
      "source": [
        "pt.scatter(x,y)\n",
        "pt.plot(x,y_pred,color=\"red\")\n",
        "pt.show()"
      ],
      "metadata": {
        "colab": {
          "base_uri": "https://localhost:8080/",
          "height": 265
        },
        "id": "IuImjdRnd9vE",
        "outputId": "9707752d-5bfa-4325-e0eb-47581d99233c"
      },
      "execution_count": null,
      "outputs": [
        {
          "output_type": "display_data",
          "data": {
            "text/plain": [
              "<Figure size 432x288 with 1 Axes>"
            ],
            "image/png": "[encoded data removed]"
          },
          "metadata": {
            "needs_background": "light"
          }
        }
      ]
    },
    {
      "cell_type": "code",
      "source": [
        "print(regr.coef_)"
      ],
      "metadata": {
        "colab": {
          "base_uri": "https://localhost:8080/"
        },
        "id": "1YfaLQN4ebEk",
        "outputId": "881a7949-67e5-4f2a-f2a2-5aa97445117f"
      },
      "execution_count": null,
      "outputs": [
        {
          "output_type": "stream",
          "name": "stdout",
          "text": [
            "[2.12612577]\n"
          ]
        }
      ]
    },
    {
      "cell_type": "code",
      "source": [
        "print(regr.intercept_)"
      ],
      "metadata": {
        "colab": {
          "base_uri": "https://localhost:8080/"
        },
        "id": "JDBlNRiceivL",
        "outputId": "51e58edb-67c6-4502-a95b-1b0a55e2ba31"
      },
      "execution_count": null,
      "outputs": [
        {
          "output_type": "stream",
          "name": "stdout",
          "text": [
            "19.346364101152318\n"
          ]
        }
      ]
    }
  ]
}